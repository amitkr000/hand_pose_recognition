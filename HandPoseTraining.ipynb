{
  "nbformat": 4,
  "nbformat_minor": 0,
  "metadata": {
    "colab": {
      "provenance": []
    },
    "kernelspec": {
      "name": "python3",
      "display_name": "Python 3"
    },
    "language_info": {
      "name": "python"
    }
  },
  "cells": [
    {
      "cell_type": "code",
      "execution_count": 48,
      "metadata": {
        "id": "e4mPHxf1qY1W"
      },
      "outputs": [],
      "source": [
        "import pandas as pd\n",
        "import numpy as np\n",
        "from keras.models import Sequential\n",
        "from keras.layers import Dense, Flatten\n",
        "from keras.callbacks import EarlyStopping\n",
        "from sklearn.model_selection import train_test_split\n",
        "\n",
        "#Download Folder\n",
        "from google.colab import files"
      ]
    },
    {
      "cell_type": "code",
      "source": [
        "#read in data using pandas\n",
        "train_df = pd.read_csv('handData.csv')\n",
        "#check data has been read in properly\n",
        "print(train_df)"
      ],
      "metadata": {
        "colab": {
          "base_uri": "https://localhost:8080/"
        },
        "id": "PUdK8ZjdqgKc",
        "outputId": "9d0cbd34-118e-4c19-d35a-a067b1c2f151"
      },
      "execution_count": 2,
      "outputs": [
        {
          "output_type": "stream",
          "name": "stdout",
          "text": [
            "      0         1         2         3         4         5         6         7  \\\n",
            "0     1  0.407496  0.799822  0.456413  0.704660  0.488068  0.611773  0.498702   \n",
            "1     1  0.402933  0.804354  0.449389  0.709616  0.488956  0.619628  0.504062   \n",
            "2     1  0.412153  0.803865  0.461189  0.702352  0.498637  0.598315  0.512938   \n",
            "3     1  0.442410  0.802408  0.476132  0.706220  0.528193  0.624632  0.564195   \n",
            "4     1  0.458069  0.816466  0.490381  0.732236  0.540285  0.643369  0.562085   \n",
            "...  ..       ...       ...       ...       ...       ...       ...       ...   \n",
            "3995  4  0.746221  0.705949  0.729081  0.607750  0.695687  0.518780  0.648658   \n",
            "3996  4  0.726092  0.656194  0.656456  0.604025  0.608877  0.532901  0.576335   \n",
            "3997  4  0.754957  0.647447  0.679147  0.613617  0.617628  0.570393  0.575156   \n",
            "3998  4  0.763678  0.623972  0.694183  0.593803  0.640363  0.542748  0.601921   \n",
            "3999  4  0.757779  0.622182  0.675059  0.571310  0.628295  0.516105  0.593579   \n",
            "\n",
            "             8         9  ...        33        34        35        36  \\\n",
            "0     0.536842  0.504942  ...  0.542751  0.784756  0.414532  0.783637   \n",
            "1     0.548678  0.512062  ...  0.492812  0.776196  0.422344  0.788690   \n",
            "2     0.515696  0.516382  ...  0.493414  0.749097  0.436179  0.766395   \n",
            "3     0.561091  0.585146  ...  0.588030  0.791683  0.500793  0.793592   \n",
            "4     0.574352  0.568893  ...  0.551699  0.810709  0.499399  0.840538   \n",
            "...        ...       ...  ...       ...       ...       ...       ...   \n",
            "3995  0.467568  0.608273  ...  0.548821  0.364303  0.683731  0.580166   \n",
            "3996  0.480025  0.542882  ...  0.622959  0.272933  0.746202  0.466552   \n",
            "3997  0.543500  0.542347  ...  0.626837  0.309206  0.753004  0.479726   \n",
            "3998  0.506183  0.565156  ...  0.647725  0.309747  0.779308  0.461075   \n",
            "3999  0.476036  0.554213  ...  0.621679  0.315291  0.768227  0.460685   \n",
            "\n",
            "            37        38        39        41        42        43  \n",
            "0     0.495344  0.809090  0.514705  0.814180  0.520044  0.815570  \n",
            "1     0.503268  0.814910  0.491531  0.820668  0.466600  0.817276  \n",
            "2     0.519394  0.789421  0.506343  0.798825  0.482017  0.796079  \n",
            "3     0.583109  0.822318  0.577263  0.825494  0.557138  0.820864  \n",
            "4     0.576604  0.859276  0.557988  0.861224  0.528983  0.855113  \n",
            "...        ...       ...       ...       ...       ...       ...  \n",
            "3995  0.628494  0.523572  0.589858  0.503181  0.553027  0.493120  \n",
            "3996  0.740525  0.388485  0.702434  0.365148  0.662453  0.362425  \n",
            "3997  0.758128  0.411985  0.731890  0.394801  0.696859  0.395008  \n",
            "3998  0.769345  0.396660  0.734036  0.389732  0.698317  0.396302  \n",
            "3999  0.740412  0.398895  0.698055  0.397096  0.663711  0.407343  \n",
            "\n",
            "[4000 rows x 43 columns]\n"
          ]
        }
      ]
    },
    {
      "cell_type": "code",
      "source": [
        "#create a dataframe with all training data except the target column\n",
        "X = train_df.drop(columns=[\"0\"])\n",
        "\n",
        "#check that the target variable has been removed\n",
        "print(X)"
      ],
      "metadata": {
        "id": "hj4ZxgF6s8Hb"
      },
      "execution_count": null,
      "outputs": []
    },
    {
      "cell_type": "code",
      "source": [
        "X.shape"
      ],
      "metadata": {
        "colab": {
          "base_uri": "https://localhost:8080/"
        },
        "id": "a0pt088QzhhT",
        "outputId": "85a72b18-15c1-47a3-c3d0-5ddedc17a00c"
      },
      "execution_count": 27,
      "outputs": [
        {
          "output_type": "execute_result",
          "data": {
            "text/plain": [
              "(4000, 42)"
            ]
          },
          "metadata": {},
          "execution_count": 27
        }
      ]
    },
    {
      "cell_type": "code",
      "source": [
        "data_y = train_df[\"0\"]\n",
        "data_y[0:5]\n",
        "data_y.shape"
      ],
      "metadata": {
        "colab": {
          "base_uri": "https://localhost:8080/"
        },
        "id": "16Nn6etYrKKr",
        "outputId": "06fa7705-f4c6-4bcc-f098-cb70f38391ff"
      },
      "execution_count": 28,
      "outputs": [
        {
          "output_type": "execute_result",
          "data": {
            "text/plain": [
              "(4000,)"
            ]
          },
          "metadata": {},
          "execution_count": 28
        }
      ]
    },
    {
      "cell_type": "code",
      "source": [
        "def MultiLabelMaker(y, No_labels):\n",
        "    train_Y = []\n",
        "    for i in y:\n",
        "        labels = np.array([0]*No_labels)\n",
        "        labels[i-1] = 1\n",
        "        train_Y.append(labels)\n",
        "    return np.array(train_Y)\n"
      ],
      "metadata": {
        "id": "BYJyIzwznwK2"
      },
      "execution_count": 29,
      "outputs": []
    },
    {
      "cell_type": "code",
      "source": [
        "Y = MultiLabelMaker(data_y, 4)\n",
        "print(Y)\n",
        "    "
      ],
      "metadata": {
        "colab": {
          "base_uri": "https://localhost:8080/"
        },
        "id": "RQ5eWKtTmYjA",
        "outputId": "db4bba44-65ae-4d78-c469-595843276923"
      },
      "execution_count": 30,
      "outputs": [
        {
          "output_type": "stream",
          "name": "stdout",
          "text": [
            "[[1 0 0 0]\n",
            " [1 0 0 0]\n",
            " [1 0 0 0]\n",
            " ...\n",
            " [0 0 0 1]\n",
            " [0 0 0 1]\n",
            " [0 0 0 1]]\n"
          ]
        }
      ]
    },
    {
      "cell_type": "code",
      "source": [
        "X_train, X_test, y_train, y_test = train_test_split(X, Y, test_size=0.20, random_state=42)"
      ],
      "metadata": {
        "id": "tvB7exkrrRw_"
      },
      "execution_count": 31,
      "outputs": []
    },
    {
      "cell_type": "code",
      "source": [
        "#create model\n",
        "model = Sequential()\n",
        "\n",
        "#get number of columns in training data\n",
        "n_cols = X.shape[1]\n",
        "\n",
        "#add layers to model\n",
        "model.add(Flatten(input_shape=(n_cols,)))\n",
        "model.add(Dense(64, activation='relu' ))\n",
        "model.add(Dense(128, activation='relu'))\n",
        "model.add(Dense(512, activation='relu'))\n",
        "model.add(Dense(64, activation='relu'))\n",
        "model.add(Dense(32, activation='relu'))\n",
        "model.add(Dense(4, activation='softmax'))"
      ],
      "metadata": {
        "id": "3Ok_qKpztjTw"
      },
      "execution_count": 16,
      "outputs": []
    },
    {
      "cell_type": "code",
      "source": [
        "def model(X):\n",
        "    #create model\n",
        "    model = Sequential()\n",
        "\n",
        "    #get number of columns in training data\n",
        "    n_cols = X.shape[1]\n",
        "\n",
        "    #add layers to model\n",
        "    model.add(Flatten(input_shape=(n_cols,)))\n",
        "    model.add(Dense(64, activation='relu' ))\n",
        "    model.add(Dense(128, activation='relu'))\n",
        "    model.add(Dense(512, activation='relu'))\n",
        "    model.add(Dense(64, activation='relu'))\n",
        "    model.add(Dense(32, activation='relu'))\n",
        "    model.add(Dense(4, activation='softmax'))\n",
        "    return model\n"
      ],
      "metadata": {
        "id": "BCiGjSVirAQM"
      },
      "execution_count": 35,
      "outputs": []
    },
    {
      "cell_type": "code",
      "source": [
        "model_2 = model(X_train)"
      ],
      "metadata": {
        "id": "cet-BS-oq8MQ"
      },
      "execution_count": 36,
      "outputs": []
    },
    {
      "cell_type": "code",
      "source": [
        "#compile model using accuracy to measure model performance\n",
        "model_2.compile(optimizer='adam', loss='categorical_crossentropy', metrics=['accuracy'])"
      ],
      "metadata": {
        "id": "9VL2cMAurixg"
      },
      "execution_count": 37,
      "outputs": []
    },
    {
      "cell_type": "code",
      "source": [
        "#train model\n",
        "model_2.fit(X_train, y_train, epochs=30, validation_split=0.2)"
      ],
      "metadata": {
        "colab": {
          "base_uri": "https://localhost:8080/"
        },
        "id": "ToKz4Y0xrmbK",
        "outputId": "0dcb2661-9dd9-4c2b-e9c7-b5f1da9a68d4"
      },
      "execution_count": 40,
      "outputs": [
        {
          "output_type": "stream",
          "name": "stdout",
          "text": [
            "Epoch 1/30\n",
            "80/80 [==============================] - 2s 10ms/step - loss: 1.1711 - accuracy: 0.4652 - val_loss: 0.9024 - val_accuracy: 0.5391\n",
            "Epoch 2/30\n",
            "80/80 [==============================] - 0s 4ms/step - loss: 0.8555 - accuracy: 0.6266 - val_loss: 0.7596 - val_accuracy: 0.6531\n",
            "Epoch 3/30\n",
            "80/80 [==============================] - 3s 39ms/step - loss: 0.6589 - accuracy: 0.7203 - val_loss: 0.5786 - val_accuracy: 0.7641\n",
            "Epoch 4/30\n",
            "80/80 [==============================] - 0s 4ms/step - loss: 0.5154 - accuracy: 0.7883 - val_loss: 0.5029 - val_accuracy: 0.7547\n",
            "Epoch 5/30\n",
            "80/80 [==============================] - 0s 5ms/step - loss: 0.4641 - accuracy: 0.8012 - val_loss: 0.4476 - val_accuracy: 0.8266\n",
            "Epoch 6/30\n",
            "80/80 [==============================] - 2s 22ms/step - loss: 0.3899 - accuracy: 0.8418 - val_loss: 0.3618 - val_accuracy: 0.8781\n",
            "Epoch 7/30\n",
            "80/80 [==============================] - 0s 5ms/step - loss: 0.3566 - accuracy: 0.8641 - val_loss: 0.3100 - val_accuracy: 0.9078\n",
            "Epoch 8/30\n",
            "80/80 [==============================] - 2s 29ms/step - loss: 0.2965 - accuracy: 0.9062 - val_loss: 0.2296 - val_accuracy: 0.9250\n",
            "Epoch 9/30\n",
            "80/80 [==============================] - 0s 5ms/step - loss: 0.2116 - accuracy: 0.9344 - val_loss: 0.3072 - val_accuracy: 0.8828\n",
            "Epoch 10/30\n",
            "80/80 [==============================] - 0s 5ms/step - loss: 0.2313 - accuracy: 0.9211 - val_loss: 0.1822 - val_accuracy: 0.9453\n",
            "Epoch 11/30\n",
            "80/80 [==============================] - 1s 18ms/step - loss: 0.1613 - accuracy: 0.9547 - val_loss: 0.1888 - val_accuracy: 0.9344\n",
            "Epoch 12/30\n",
            "80/80 [==============================] - 0s 6ms/step - loss: 0.1606 - accuracy: 0.9484 - val_loss: 0.1772 - val_accuracy: 0.9500\n",
            "Epoch 13/30\n",
            "80/80 [==============================] - 1s 16ms/step - loss: 0.1896 - accuracy: 0.9375 - val_loss: 0.2603 - val_accuracy: 0.9156\n",
            "Epoch 14/30\n",
            "80/80 [==============================] - 1s 19ms/step - loss: 0.1338 - accuracy: 0.9602 - val_loss: 0.1617 - val_accuracy: 0.9531\n",
            "Epoch 15/30\n",
            "80/80 [==============================] - 0s 5ms/step - loss: 0.1324 - accuracy: 0.9543 - val_loss: 0.2263 - val_accuracy: 0.9344\n",
            "Epoch 16/30\n",
            "80/80 [==============================] - 2s 27ms/step - loss: 0.1304 - accuracy: 0.9574 - val_loss: 0.1586 - val_accuracy: 0.9547\n",
            "Epoch 17/30\n",
            "80/80 [==============================] - 0s 5ms/step - loss: 0.1114 - accuracy: 0.9688 - val_loss: 0.1144 - val_accuracy: 0.9609\n",
            "Epoch 18/30\n",
            "80/80 [==============================] - 0s 4ms/step - loss: 0.1105 - accuracy: 0.9629 - val_loss: 0.1295 - val_accuracy: 0.9625\n",
            "Epoch 19/30\n",
            "80/80 [==============================] - 1s 17ms/step - loss: 0.1073 - accuracy: 0.9676 - val_loss: 0.1488 - val_accuracy: 0.9469\n",
            "Epoch 20/30\n",
            "80/80 [==============================] - 0s 4ms/step - loss: 0.1029 - accuracy: 0.9695 - val_loss: 0.0982 - val_accuracy: 0.9703\n",
            "Epoch 21/30\n",
            "80/80 [==============================] - 1s 8ms/step - loss: 0.0940 - accuracy: 0.9711 - val_loss: 0.1118 - val_accuracy: 0.9656\n",
            "Epoch 22/30\n",
            "80/80 [==============================] - 0s 4ms/step - loss: 0.0857 - accuracy: 0.9754 - val_loss: 0.1894 - val_accuracy: 0.9406\n",
            "Epoch 23/30\n",
            "80/80 [==============================] - 1s 16ms/step - loss: 0.0937 - accuracy: 0.9707 - val_loss: 0.1280 - val_accuracy: 0.9563\n",
            "Epoch 24/30\n",
            "80/80 [==============================] - 1s 9ms/step - loss: 0.0960 - accuracy: 0.9691 - val_loss: 0.0774 - val_accuracy: 0.9688\n",
            "Epoch 25/30\n",
            "80/80 [==============================] - 0s 4ms/step - loss: 0.1039 - accuracy: 0.9684 - val_loss: 0.1393 - val_accuracy: 0.9578\n",
            "Epoch 26/30\n",
            "80/80 [==============================] - 2s 26ms/step - loss: 0.0893 - accuracy: 0.9738 - val_loss: 0.0934 - val_accuracy: 0.9719\n",
            "Epoch 27/30\n",
            "80/80 [==============================] - 1s 8ms/step - loss: 0.0972 - accuracy: 0.9715 - val_loss: 0.1199 - val_accuracy: 0.9609\n",
            "Epoch 28/30\n",
            "80/80 [==============================] - 0s 5ms/step - loss: 0.0864 - accuracy: 0.9738 - val_loss: 0.0737 - val_accuracy: 0.9828\n",
            "Epoch 29/30\n",
            "80/80 [==============================] - 1s 7ms/step - loss: 0.1110 - accuracy: 0.9656 - val_loss: 0.0619 - val_accuracy: 0.9781\n",
            "Epoch 30/30\n",
            "80/80 [==============================] - 0s 5ms/step - loss: 0.1021 - accuracy: 0.9633 - val_loss: 0.1069 - val_accuracy: 0.9656\n"
          ]
        },
        {
          "output_type": "execute_result",
          "data": {
            "text/plain": [
              "<keras.callbacks.History at 0x7ff921e7c0d0>"
            ]
          },
          "metadata": {},
          "execution_count": 40
        }
      ]
    },
    {
      "cell_type": "code",
      "source": [
        "prediction = model_2.predict(X_test)"
      ],
      "metadata": {
        "colab": {
          "base_uri": "https://localhost:8080/"
        },
        "id": "aoXXSwOvsFXg",
        "outputId": "5da13da7-e4ec-4120-ed72-ab6a3a1fc452"
      },
      "execution_count": 42,
      "outputs": [
        {
          "output_type": "stream",
          "name": "stdout",
          "text": [
            "25/25 [==============================] - 1s 19ms/step\n"
          ]
        }
      ]
    },
    {
      "cell_type": "code",
      "source": [
        "model_2.save(\"handPose\")"
      ],
      "metadata": {
        "colab": {
          "base_uri": "https://localhost:8080/"
        },
        "id": "mILyj9mbtSxX",
        "outputId": "bc29c004-0d92-4a32-d5f1-e7dc9b69dd6a"
      },
      "execution_count": 47,
      "outputs": [
        {
          "output_type": "stream",
          "name": "stderr",
          "text": [
            "WARNING:absl:Found untraced functions such as _update_step_xla while saving (showing 1 of 1). These functions will not be directly callable after loading.\n"
          ]
        }
      ]
    },
    {
      "cell_type": "code",
      "source": [
        "!zip -r /content/handPose.zip /content/handPose\n",
        "files.download(\"/content/handPose.zip\")"
      ],
      "metadata": {
        "colab": {
          "base_uri": "https://localhost:8080/",
          "height": 156
        },
        "id": "d8mnF4Jpuqer",
        "outputId": "58f6607a-5324-4e8d-ead9-6d79b40c929d"
      },
      "execution_count": 49,
      "outputs": [
        {
          "output_type": "stream",
          "name": "stdout",
          "text": [
            "  adding: content/handPose/ (stored 0%)\n",
            "  adding: content/handPose/assets/ (stored 0%)\n",
            "  adding: content/handPose/saved_model.pb (deflated 89%)\n",
            "  adding: content/handPose/fingerprint.pb (stored 0%)\n",
            "  adding: content/handPose/keras_metadata.pb (deflated 91%)\n",
            "  adding: content/handPose/variables/ (stored 0%)\n",
            "  adding: content/handPose/variables/variables.index (deflated 64%)\n",
            "  adding: content/handPose/variables/variables.data-00000-of-00001 (deflated 20%)\n"
          ]
        },
        {
          "output_type": "display_data",
          "data": {
            "text/plain": [
              "<IPython.core.display.Javascript object>"
            ],
            "application/javascript": [
              "\n",
              "    async function download(id, filename, size) {\n",
              "      if (!google.colab.kernel.accessAllowed) {\n",
              "        return;\n",
              "      }\n",
              "      const div = document.createElement('div');\n",
              "      const label = document.createElement('label');\n",
              "      label.textContent = `Downloading \"${filename}\": `;\n",
              "      div.appendChild(label);\n",
              "      const progress = document.createElement('progress');\n",
              "      progress.max = size;\n",
              "      div.appendChild(progress);\n",
              "      document.body.appendChild(div);\n",
              "\n",
              "      const buffers = [];\n",
              "      let downloaded = 0;\n",
              "\n",
              "      const channel = await google.colab.kernel.comms.open(id);\n",
              "      // Send a message to notify the kernel that we're ready.\n",
              "      channel.send({})\n",
              "\n",
              "      for await (const message of channel.messages) {\n",
              "        // Send a message to notify the kernel that we're ready.\n",
              "        channel.send({})\n",
              "        if (message.buffers) {\n",
              "          for (const buffer of message.buffers) {\n",
              "            buffers.push(buffer);\n",
              "            downloaded += buffer.byteLength;\n",
              "            progress.value = downloaded;\n",
              "          }\n",
              "        }\n",
              "      }\n",
              "      const blob = new Blob(buffers, {type: 'application/binary'});\n",
              "      const a = document.createElement('a');\n",
              "      a.href = window.URL.createObjectURL(blob);\n",
              "      a.download = filename;\n",
              "      div.appendChild(a);\n",
              "      a.click();\n",
              "      div.remove();\n",
              "    }\n",
              "  "
            ]
          },
          "metadata": {}
        },
        {
          "output_type": "display_data",
          "data": {
            "text/plain": [
              "<IPython.core.display.Javascript object>"
            ],
            "application/javascript": [
              "download(\"download_cc0166b4-36dc-4b1b-aa96-4116df3fd699\", \"handPose.zip\", 1114209)"
            ]
          },
          "metadata": {}
        }
      ]
    }
  ]
}