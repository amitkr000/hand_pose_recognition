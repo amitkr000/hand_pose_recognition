{
  "nbformat": 4,
  "nbformat_minor": 0,
  "metadata": {
    "colab": {
      "provenance": []
    },
    "kernelspec": {
      "name": "python3",
      "display_name": "Python 3"
    },
    "language_info": {
      "name": "python"
    }
  },
  "cells": [
    {
      "cell_type": "code",
      "execution_count": 1,
      "metadata": {
        "id": "e4mPHxf1qY1W"
      },
      "outputs": [],
      "source": [
        "import pandas as pd\n",
        "import numpy as np\n",
        "from keras.models import Sequential\n",
        "from keras.layers import Dense, Flatten\n",
        "from keras.callbacks import EarlyStopping\n",
        "from sklearn.model_selection import train_test_split\n",
        "from tensorflow.keras.models import load_model\n",
        "from sklearn.metrics import confusion_matrix\n",
        "import seaborn as sns\n",
        "import matplotlib.pyplot as plt\n",
        "\n",
        "#Download Folder\n",
        "from google.colab import files"
      ]
    },
    {
      "cell_type": "code",
      "source": [
        "#read in data using pandas\n",
        "train_df = pd.read_csv('drive/MyDrive/Projects/ITR_Project/final_handData.csv')\n",
        "#check data has been read in properly\n",
        "print(train_df)"
      ],
      "metadata": {
        "colab": {
          "base_uri": "https://localhost:8080/"
        },
        "id": "PUdK8ZjdqgKc",
        "outputId": "38096c9b-f664-46f9-e111-b4d2d6818321"
      },
      "execution_count": 2,
      "outputs": [
        {
          "output_type": "stream",
          "name": "stdout",
          "text": [
            "      0         1         2             3         4         5         6  \\\n",
            "0     0  0.404026  0.621056 -6.600000e-07  0.332887  0.506639 -0.005147   \n",
            "1     0  0.403448  0.616114 -6.510000e-07  0.336590  0.505035 -0.005890   \n",
            "2     0  0.418473  0.618932 -6.490000e-07  0.360518  0.497287 -0.007421   \n",
            "3     0  0.489930  0.658153 -6.110000e-07  0.439280  0.523737 -0.012807   \n",
            "4     0  0.542151  0.775465 -6.220000e-07  0.522526  0.627470 -0.009311   \n",
            "...  ..       ...       ...           ...       ...       ...       ...   \n",
            "4995  4  0.668271  0.674607  2.450000e-07  0.619059  0.660857 -0.009120   \n",
            "4996  4  0.765949  0.683521  2.660000e-07  0.714221  0.660657 -0.003121   \n",
            "4997  4  0.815805  0.693446  2.170000e-07  0.761634  0.693313 -0.004330   \n",
            "4998  4  0.825029  0.696767  2.550000e-07  0.770418  0.695777 -0.005772   \n",
            "4999  4  0.817318  0.694929  1.700000e-07  0.766149  0.701938  0.002326   \n",
            "\n",
            "             7         8         9  ...        56        57        58  \\\n",
            "0     0.312980  0.375284 -0.008243  ...  0.561315  0.420550 -0.001348   \n",
            "1     0.314522  0.376657 -0.011280  ...  0.561874  0.429641 -0.010836   \n",
            "2     0.347507  0.371419 -0.015074  ...  0.579242  0.453719 -0.019284   \n",
            "3     0.445841  0.402511 -0.022202  ...  0.646602  0.530361 -0.021061   \n",
            "4     0.553607  0.507040 -0.016469  ...  0.728864  0.706836 -0.009897   \n",
            "...        ...       ...       ...  ...       ...       ...       ...   \n",
            "4995  0.573719  0.616483 -0.013745  ...  0.720105  0.439056 -0.062994   \n",
            "4996  0.675755  0.611221 -0.005796  ...  0.846276  0.469519 -0.060788   \n",
            "4997  0.720853  0.660000 -0.007317  ...  0.862415  0.460043 -0.053780   \n",
            "4998  0.727329  0.662289 -0.009235  ...  0.866539  0.458128 -0.060072   \n",
            "4999  0.725301  0.671453  0.006576  ...  0.832435  0.434410 -0.046685   \n",
            "\n",
            "            59        60        61        62        63        64  Unnamed: 64  \n",
            "0     0.539307  0.442775  0.009099  0.527577  0.475048  0.017415          NaN  \n",
            "1     0.540440  0.452617 -0.001258  0.526005  0.481432  0.006370          NaN  \n",
            "2     0.558646  0.474092 -0.009153  0.546755  0.499527 -0.000576          NaN  \n",
            "3     0.624139  0.547929 -0.011269  0.614001  0.573403 -0.002723          NaN  \n",
            "4     0.701532  0.714573 -0.001701  0.680905  0.730431  0.005976          NaN  \n",
            "...        ...       ...       ...       ...       ...       ...          ...  \n",
            "4995  0.734801  0.402823 -0.072559  0.746104  0.370301 -0.078174          NaN  \n",
            "4996  0.863723  0.435749 -0.069451  0.877567  0.405820 -0.073958          NaN  \n",
            "4997  0.875379  0.419480 -0.063163  0.886183  0.383960 -0.068730          NaN  \n",
            "4998  0.878851  0.416813 -0.070577  0.888776  0.380530 -0.076652          NaN  \n",
            "4999  0.839694  0.387852 -0.058227  0.845778  0.348581 -0.065467          NaN  \n",
            "\n",
            "[5000 rows x 65 columns]\n"
          ]
        }
      ]
    },
    {
      "cell_type": "code",
      "source": [
        "#create a dataframe with all training data except the target column\n",
        "X = train_df.drop(columns=[\"0\"])\n",
        "X = X.loc[:, ~X.columns.str.contains('^Unnamed')]\n",
        "\n",
        "#check that the target variable has been removed\n",
        "print(X)"
      ],
      "metadata": {
        "id": "hj4ZxgF6s8Hb",
        "colab": {
          "base_uri": "https://localhost:8080/"
        },
        "outputId": "c5b4cc3f-b5bd-4dcc-e940-b0f4b1fa3622"
      },
      "execution_count": 3,
      "outputs": [
        {
          "output_type": "stream",
          "name": "stdout",
          "text": [
            "             1         2             3         4         5         6  \\\n",
            "0     0.404026  0.621056 -6.600000e-07  0.332887  0.506639 -0.005147   \n",
            "1     0.403448  0.616114 -6.510000e-07  0.336590  0.505035 -0.005890   \n",
            "2     0.418473  0.618932 -6.490000e-07  0.360518  0.497287 -0.007421   \n",
            "3     0.489930  0.658153 -6.110000e-07  0.439280  0.523737 -0.012807   \n",
            "4     0.542151  0.775465 -6.220000e-07  0.522526  0.627470 -0.009311   \n",
            "...        ...       ...           ...       ...       ...       ...   \n",
            "4995  0.668271  0.674607  2.450000e-07  0.619059  0.660857 -0.009120   \n",
            "4996  0.765949  0.683521  2.660000e-07  0.714221  0.660657 -0.003121   \n",
            "4997  0.815805  0.693446  2.170000e-07  0.761634  0.693313 -0.004330   \n",
            "4998  0.825029  0.696767  2.550000e-07  0.770418  0.695777 -0.005772   \n",
            "4999  0.817318  0.694929  1.700000e-07  0.766149  0.701938  0.002326   \n",
            "\n",
            "             7         8         9        10  ...        55        56  \\\n",
            "0     0.312980  0.375284 -0.008243  0.354004  ... -0.007065  0.561315   \n",
            "1     0.314522  0.376657 -0.011280  0.355217  ... -0.015602  0.561874   \n",
            "2     0.347507  0.371419 -0.015074  0.385273  ... -0.021857  0.579242   \n",
            "3     0.445841  0.402511 -0.022202  0.492187  ... -0.021274  0.646602   \n",
            "4     0.553607  0.507040 -0.016469  0.614151  ... -0.010824  0.728864   \n",
            "...        ...       ...       ...       ...  ...       ...       ...   \n",
            "4995  0.573719  0.616483 -0.013745  0.548233  ... -0.043540  0.720105   \n",
            "4996  0.675755  0.611221 -0.005796  0.652700  ... -0.042806  0.846276   \n",
            "4997  0.720853  0.660000 -0.007317  0.694546  ... -0.037170  0.862415   \n",
            "4998  0.727329  0.662289 -0.009235  0.699787  ... -0.041148  0.866539   \n",
            "4999  0.725301  0.671453  0.006576  0.699009  ... -0.030117  0.832435   \n",
            "\n",
            "            57        58        59        60        61        62        63  \\\n",
            "0     0.420550 -0.001348  0.539307  0.442775  0.009099  0.527577  0.475048   \n",
            "1     0.429641 -0.010836  0.540440  0.452617 -0.001258  0.526005  0.481432   \n",
            "2     0.453719 -0.019284  0.558646  0.474092 -0.009153  0.546755  0.499527   \n",
            "3     0.530361 -0.021061  0.624139  0.547929 -0.011269  0.614001  0.573403   \n",
            "4     0.706836 -0.009897  0.701532  0.714573 -0.001701  0.680905  0.730431   \n",
            "...        ...       ...       ...       ...       ...       ...       ...   \n",
            "4995  0.439056 -0.062994  0.734801  0.402823 -0.072559  0.746104  0.370301   \n",
            "4996  0.469519 -0.060788  0.863723  0.435749 -0.069451  0.877567  0.405820   \n",
            "4997  0.460043 -0.053780  0.875379  0.419480 -0.063163  0.886183  0.383960   \n",
            "4998  0.458128 -0.060072  0.878851  0.416813 -0.070577  0.888776  0.380530   \n",
            "4999  0.434410 -0.046685  0.839694  0.387852 -0.058227  0.845778  0.348581   \n",
            "\n",
            "            64  \n",
            "0     0.017415  \n",
            "1     0.006370  \n",
            "2    -0.000576  \n",
            "3    -0.002723  \n",
            "4     0.005976  \n",
            "...        ...  \n",
            "4995 -0.078174  \n",
            "4996 -0.073958  \n",
            "4997 -0.068730  \n",
            "4998 -0.076652  \n",
            "4999 -0.065467  \n",
            "\n",
            "[5000 rows x 63 columns]\n"
          ]
        }
      ]
    },
    {
      "cell_type": "code",
      "source": [
        "X.shape"
      ],
      "metadata": {
        "colab": {
          "base_uri": "https://localhost:8080/"
        },
        "id": "a0pt088QzhhT",
        "outputId": "2b1d258c-c19a-4df6-8082-77f7ac6eda93"
      },
      "execution_count": 4,
      "outputs": [
        {
          "output_type": "execute_result",
          "data": {
            "text/plain": [
              "(5000, 63)"
            ]
          },
          "metadata": {},
          "execution_count": 4
        }
      ]
    },
    {
      "cell_type": "code",
      "source": [
        "data_y = train_df[\"0\"]\n",
        "data_y[0:5]\n",
        "data_y.shape"
      ],
      "metadata": {
        "colab": {
          "base_uri": "https://localhost:8080/"
        },
        "id": "16Nn6etYrKKr",
        "outputId": "63190779-328c-44da-fce1-3d1d4f3dcfbb"
      },
      "execution_count": 5,
      "outputs": [
        {
          "output_type": "execute_result",
          "data": {
            "text/plain": [
              "(5000,)"
            ]
          },
          "metadata": {},
          "execution_count": 5
        }
      ]
    },
    {
      "cell_type": "code",
      "source": [
        "X.isnull().sum()"
      ],
      "metadata": {
        "colab": {
          "base_uri": "https://localhost:8080/"
        },
        "id": "fIvy6wUYpovk",
        "outputId": "9c8d8d97-61a2-4e14-80e8-02f86e105da7"
      },
      "execution_count": 6,
      "outputs": [
        {
          "output_type": "execute_result",
          "data": {
            "text/plain": [
              "1     0\n",
              "2     0\n",
              "3     0\n",
              "4     0\n",
              "5     0\n",
              "     ..\n",
              "60    0\n",
              "61    0\n",
              "62    0\n",
              "63    0\n",
              "64    0\n",
              "Length: 63, dtype: int64"
            ]
          },
          "metadata": {},
          "execution_count": 6
        }
      ]
    },
    {
      "cell_type": "code",
      "source": [
        "def MultiLabelMaker(y, No_labels):\n",
        "    train_Y = []\n",
        "    for i in y:\n",
        "        labels = np.array([0]*No_labels)\n",
        "        labels[i] = 1\n",
        "        train_Y.append(labels)\n",
        "    return np.array(train_Y)\n"
      ],
      "metadata": {
        "id": "BYJyIzwznwK2"
      },
      "execution_count": 7,
      "outputs": []
    },
    {
      "cell_type": "code",
      "source": [
        "Y = MultiLabelMaker(data_y, 5)\n",
        "print(Y[4])\n",
        "    "
      ],
      "metadata": {
        "colab": {
          "base_uri": "https://localhost:8080/"
        },
        "id": "RQ5eWKtTmYjA",
        "outputId": "b01f8bd9-0fa2-451d-cb5a-d8356ee4523c"
      },
      "execution_count": 8,
      "outputs": [
        {
          "output_type": "stream",
          "name": "stdout",
          "text": [
            "[1 0 0 0 0]\n"
          ]
        }
      ]
    },
    {
      "cell_type": "code",
      "source": [
        "X_train, X_test, y_train, y_test = train_test_split(X, Y, test_size=0.1, random_state=42)"
      ],
      "metadata": {
        "id": "tvB7exkrrRw_"
      },
      "execution_count": 9,
      "outputs": []
    },
    {
      "cell_type": "code",
      "source": [
        "def model(X):\n",
        "    #create model\n",
        "    model = Sequential()\n",
        "\n",
        "    #get number of columns in training data\n",
        "    n_cols = X.shape[1]\n",
        "\n",
        "    #add layers to model\n",
        "    model.add(Flatten(input_shape=(n_cols,)))\n",
        "    model.add(Dense(80, activation='relu' ))\n",
        "    model.add(Dense(96, activation='relu'))\n",
        "    model.add(Dense(128, activation='relu'))\n",
        "    model.add(Dense(32, activation='relu'))\n",
        "    model.add(Dense(16, activation='relu'))\n",
        "    model.add(Dense(5, activation='softmax'))\n",
        "    return model\n"
      ],
      "metadata": {
        "id": "BCiGjSVirAQM"
      },
      "execution_count": 10,
      "outputs": []
    },
    {
      "cell_type": "code",
      "source": [
        "model_2 = model(X_train)"
      ],
      "metadata": {
        "id": "cet-BS-oq8MQ"
      },
      "execution_count": 11,
      "outputs": []
    },
    {
      "cell_type": "code",
      "source": [
        "#compile model using accuracy to measure model performance\n",
        "model_2.compile(optimizer='adam', loss='categorical_crossentropy', metrics=['accuracy'])"
      ],
      "metadata": {
        "id": "9VL2cMAurixg"
      },
      "execution_count": 12,
      "outputs": []
    },
    {
      "cell_type": "code",
      "source": [
        "#train model\n",
        "model_2.fit(X_train, y_train, epochs=50, validation_split=0.2)"
      ],
      "metadata": {
        "colab": {
          "base_uri": "https://localhost:8080/"
        },
        "id": "ToKz4Y0xrmbK",
        "outputId": "b8314e9d-44c7-4695-8178-84a2f47fc84f"
      },
      "execution_count": 13,
      "outputs": [
        {
          "output_type": "stream",
          "name": "stdout",
          "text": [
            "Epoch 1/50\n",
            "113/113 [==============================] - 2s 6ms/step - loss: 1.5580 - accuracy: 0.2803 - val_loss: 1.4705 - val_accuracy: 0.3322\n",
            "Epoch 2/50\n",
            "113/113 [==============================] - 14s 129ms/step - loss: 1.3346 - accuracy: 0.4369 - val_loss: 1.0986 - val_accuracy: 0.5744\n",
            "Epoch 3/50\n",
            "113/113 [==============================] - 0s 3ms/step - loss: 0.9447 - accuracy: 0.6350 - val_loss: 0.8826 - val_accuracy: 0.6278\n",
            "Epoch 4/50\n",
            "113/113 [==============================] - 3s 25ms/step - loss: 0.7620 - accuracy: 0.7139 - val_loss: 0.6881 - val_accuracy: 0.7389\n",
            "Epoch 5/50\n",
            "113/113 [==============================] - 2s 17ms/step - loss: 0.6470 - accuracy: 0.7631 - val_loss: 0.5435 - val_accuracy: 0.8167\n",
            "Epoch 6/50\n",
            "113/113 [==============================] - 3s 22ms/step - loss: 0.5649 - accuracy: 0.7903 - val_loss: 0.5063 - val_accuracy: 0.8256\n",
            "Epoch 7/50\n",
            "113/113 [==============================] - 0s 3ms/step - loss: 0.4625 - accuracy: 0.8403 - val_loss: 0.5814 - val_accuracy: 0.7733\n",
            "Epoch 8/50\n",
            "113/113 [==============================] - 0s 3ms/step - loss: 0.4503 - accuracy: 0.8383 - val_loss: 0.4837 - val_accuracy: 0.8133\n",
            "Epoch 9/50\n",
            "113/113 [==============================] - 2s 21ms/step - loss: 0.3563 - accuracy: 0.8769 - val_loss: 0.3410 - val_accuracy: 0.8889\n",
            "Epoch 10/50\n",
            "113/113 [==============================] - 0s 3ms/step - loss: 0.2989 - accuracy: 0.8972 - val_loss: 0.2839 - val_accuracy: 0.8911\n",
            "Epoch 11/50\n",
            "113/113 [==============================] - 1s 5ms/step - loss: 0.2627 - accuracy: 0.9125 - val_loss: 0.2449 - val_accuracy: 0.9244\n",
            "Epoch 12/50\n",
            "113/113 [==============================] - 0s 3ms/step - loss: 0.2296 - accuracy: 0.9225 - val_loss: 0.2471 - val_accuracy: 0.8967\n",
            "Epoch 13/50\n",
            "113/113 [==============================] - 1s 6ms/step - loss: 0.2303 - accuracy: 0.9194 - val_loss: 0.3301 - val_accuracy: 0.8689\n",
            "Epoch 14/50\n",
            "113/113 [==============================] - 0s 3ms/step - loss: 0.1643 - accuracy: 0.9467 - val_loss: 0.1536 - val_accuracy: 0.9544\n",
            "Epoch 15/50\n",
            "113/113 [==============================] - 1s 11ms/step - loss: 0.1669 - accuracy: 0.9458 - val_loss: 0.3450 - val_accuracy: 0.8678\n",
            "Epoch 16/50\n",
            "113/113 [==============================] - 1s 5ms/step - loss: 0.1903 - accuracy: 0.9356 - val_loss: 0.1307 - val_accuracy: 0.9689\n",
            "Epoch 17/50\n",
            "113/113 [==============================] - 0s 4ms/step - loss: 0.1254 - accuracy: 0.9617 - val_loss: 0.1028 - val_accuracy: 0.9667\n",
            "Epoch 18/50\n",
            "113/113 [==============================] - 3s 27ms/step - loss: 0.1132 - accuracy: 0.9667 - val_loss: 0.1191 - val_accuracy: 0.9567\n",
            "Epoch 19/50\n",
            "113/113 [==============================] - 0s 3ms/step - loss: 0.1168 - accuracy: 0.9625 - val_loss: 0.0779 - val_accuracy: 0.9833\n",
            "Epoch 20/50\n",
            "113/113 [==============================] - 0s 3ms/step - loss: 0.1165 - accuracy: 0.9617 - val_loss: 0.1813 - val_accuracy: 0.9344\n",
            "Epoch 21/50\n",
            "113/113 [==============================] - 1s 6ms/step - loss: 0.1203 - accuracy: 0.9592 - val_loss: 0.0769 - val_accuracy: 0.9722\n",
            "Epoch 22/50\n",
            "113/113 [==============================] - 0s 3ms/step - loss: 0.0664 - accuracy: 0.9803 - val_loss: 0.0564 - val_accuracy: 0.9800\n",
            "Epoch 23/50\n",
            "113/113 [==============================] - 0s 3ms/step - loss: 0.0912 - accuracy: 0.9717 - val_loss: 0.1401 - val_accuracy: 0.9411\n",
            "Epoch 24/50\n",
            "113/113 [==============================] - 0s 3ms/step - loss: 0.0729 - accuracy: 0.9794 - val_loss: 0.0511 - val_accuracy: 0.9856\n",
            "Epoch 25/50\n",
            "113/113 [==============================] - 2s 18ms/step - loss: 0.0410 - accuracy: 0.9900 - val_loss: 0.0445 - val_accuracy: 0.9833\n",
            "Epoch 26/50\n",
            "113/113 [==============================] - 1s 6ms/step - loss: 0.1030 - accuracy: 0.9619 - val_loss: 0.6256 - val_accuracy: 0.8178\n",
            "Epoch 27/50\n",
            "113/113 [==============================] - 0s 3ms/step - loss: 0.1002 - accuracy: 0.9681 - val_loss: 0.1314 - val_accuracy: 0.9511\n",
            "Epoch 28/50\n",
            "113/113 [==============================] - 1s 13ms/step - loss: 0.0692 - accuracy: 0.9806 - val_loss: 0.0406 - val_accuracy: 0.9867\n",
            "Epoch 29/50\n",
            "113/113 [==============================] - 0s 3ms/step - loss: 0.0981 - accuracy: 0.9653 - val_loss: 0.0681 - val_accuracy: 0.9756\n",
            "Epoch 30/50\n",
            "113/113 [==============================] - 1s 6ms/step - loss: 0.0901 - accuracy: 0.9686 - val_loss: 0.0897 - val_accuracy: 0.9633\n",
            "Epoch 31/50\n",
            "113/113 [==============================] - 0s 4ms/step - loss: 0.0410 - accuracy: 0.9875 - val_loss: 0.0511 - val_accuracy: 0.9844\n",
            "Epoch 32/50\n",
            "113/113 [==============================] - 3s 24ms/step - loss: 0.0446 - accuracy: 0.9869 - val_loss: 0.0489 - val_accuracy: 0.9800\n",
            "Epoch 33/50\n",
            "113/113 [==============================] - 1s 5ms/step - loss: 0.0946 - accuracy: 0.9644 - val_loss: 0.0579 - val_accuracy: 0.9767\n",
            "Epoch 34/50\n",
            "113/113 [==============================] - 1s 6ms/step - loss: 0.0288 - accuracy: 0.9925 - val_loss: 0.0366 - val_accuracy: 0.9856\n",
            "Epoch 35/50\n",
            "113/113 [==============================] - 0s 3ms/step - loss: 0.0451 - accuracy: 0.9869 - val_loss: 0.0440 - val_accuracy: 0.9811\n",
            "Epoch 36/50\n",
            "113/113 [==============================] - 0s 3ms/step - loss: 0.0319 - accuracy: 0.9911 - val_loss: 0.0512 - val_accuracy: 0.9800\n",
            "Epoch 37/50\n",
            "113/113 [==============================] - 1s 13ms/step - loss: 0.0522 - accuracy: 0.9839 - val_loss: 0.0320 - val_accuracy: 0.9911\n",
            "Epoch 38/50\n",
            "113/113 [==============================] - 0s 3ms/step - loss: 0.0152 - accuracy: 0.9967 - val_loss: 0.0205 - val_accuracy: 0.9933\n",
            "Epoch 39/50\n",
            "113/113 [==============================] - 0s 3ms/step - loss: 0.0602 - accuracy: 0.9808 - val_loss: 0.0422 - val_accuracy: 0.9867\n",
            "Epoch 40/50\n",
            "113/113 [==============================] - 2s 18ms/step - loss: 0.0474 - accuracy: 0.9856 - val_loss: 0.0361 - val_accuracy: 0.9856\n",
            "Epoch 41/50\n",
            "113/113 [==============================] - 0s 3ms/step - loss: 0.0197 - accuracy: 0.9947 - val_loss: 0.0309 - val_accuracy: 0.9889\n",
            "Epoch 42/50\n",
            "113/113 [==============================] - 0s 3ms/step - loss: 0.0359 - accuracy: 0.9872 - val_loss: 0.0622 - val_accuracy: 0.9800\n",
            "Epoch 43/50\n",
            "113/113 [==============================] - 3s 27ms/step - loss: 0.0332 - accuracy: 0.9903 - val_loss: 0.0435 - val_accuracy: 0.9844\n",
            "Epoch 44/50\n",
            "113/113 [==============================] - 1s 6ms/step - loss: 0.0406 - accuracy: 0.9858 - val_loss: 0.0267 - val_accuracy: 0.9922\n",
            "Epoch 45/50\n",
            "113/113 [==============================] - 0s 3ms/step - loss: 0.0999 - accuracy: 0.9672 - val_loss: 0.0860 - val_accuracy: 0.9744\n",
            "Epoch 46/50\n",
            "113/113 [==============================] - 1s 3ms/step - loss: 0.0474 - accuracy: 0.9836 - val_loss: 0.0231 - val_accuracy: 0.9933\n",
            "Epoch 47/50\n",
            "113/113 [==============================] - 0s 4ms/step - loss: 0.0211 - accuracy: 0.9936 - val_loss: 0.0570 - val_accuracy: 0.9833\n",
            "Epoch 48/50\n",
            "113/113 [==============================] - 2s 20ms/step - loss: 0.0249 - accuracy: 0.9922 - val_loss: 0.0240 - val_accuracy: 0.9933\n",
            "Epoch 49/50\n",
            "113/113 [==============================] - 0s 3ms/step - loss: 0.0382 - accuracy: 0.9861 - val_loss: 0.0390 - val_accuracy: 0.9856\n",
            "Epoch 50/50\n",
            "113/113 [==============================] - 0s 3ms/step - loss: 0.0215 - accuracy: 0.9928 - val_loss: 0.0305 - val_accuracy: 0.9856\n"
          ]
        },
        {
          "output_type": "execute_result",
          "data": {
            "text/plain": [
              "<keras.callbacks.History at 0x7f98bc5186a0>"
            ]
          },
          "metadata": {},
          "execution_count": 13
        }
      ]
    },
    {
      "cell_type": "code",
      "source": [
        "prediction = model_2.predict(X_test)"
      ],
      "metadata": {
        "colab": {
          "base_uri": "https://localhost:8080/"
        },
        "id": "aoXXSwOvsFXg",
        "outputId": "38896b85-3310-4eb3-a22c-892847720afa"
      },
      "execution_count": 14,
      "outputs": [
        {
          "output_type": "stream",
          "name": "stdout",
          "text": [
            "16/16 [==============================] - 0s 16ms/step\n"
          ]
        }
      ]
    },
    {
      "cell_type": "code",
      "source": [
        "model_2.save(\"handPose\")"
      ],
      "metadata": {
        "colab": {
          "base_uri": "https://localhost:8080/"
        },
        "id": "mILyj9mbtSxX",
        "outputId": "0b2a1bde-94d8-4064-de5f-6bbe1411a702"
      },
      "execution_count": 15,
      "outputs": [
        {
          "output_type": "stream",
          "name": "stderr",
          "text": [
            "WARNING:absl:Found untraced functions such as _update_step_xla while saving (showing 1 of 1). These functions will not be directly callable after loading.\n"
          ]
        }
      ]
    },
    {
      "cell_type": "code",
      "source": [
        "!zip -r /content/handPose10.zip /content/handPose\n",
        "files.download(\"/content/handPose10.zip\")"
      ],
      "metadata": {
        "colab": {
          "base_uri": "https://localhost:8080/",
          "height": 156
        },
        "id": "d8mnF4Jpuqer",
        "outputId": "0b279853-176f-4ee6-a710-b310b0811469"
      },
      "execution_count": 16,
      "outputs": [
        {
          "output_type": "stream",
          "name": "stdout",
          "text": [
            "  adding: content/handPose/ (stored 0%)\n",
            "  adding: content/handPose/keras_metadata.pb (deflated 90%)\n",
            "  adding: content/handPose/variables/ (stored 0%)\n",
            "  adding: content/handPose/variables/variables.index (deflated 63%)\n",
            "  adding: content/handPose/variables/variables.data-00000-of-00001 (deflated 16%)\n",
            "  adding: content/handPose/saved_model.pb (deflated 88%)\n",
            "  adding: content/handPose/assets/ (stored 0%)\n",
            "  adding: content/handPose/fingerprint.pb (stored 0%)\n"
          ]
        },
        {
          "output_type": "display_data",
          "data": {
            "text/plain": [
              "<IPython.core.display.Javascript object>"
            ],
            "application/javascript": [
              "\n",
              "    async function download(id, filename, size) {\n",
              "      if (!google.colab.kernel.accessAllowed) {\n",
              "        return;\n",
              "      }\n",
              "      const div = document.createElement('div');\n",
              "      const label = document.createElement('label');\n",
              "      label.textContent = `Downloading \"${filename}\": `;\n",
              "      div.appendChild(label);\n",
              "      const progress = document.createElement('progress');\n",
              "      progress.max = size;\n",
              "      div.appendChild(progress);\n",
              "      document.body.appendChild(div);\n",
              "\n",
              "      const buffers = [];\n",
              "      let downloaded = 0;\n",
              "\n",
              "      const channel = await google.colab.kernel.comms.open(id);\n",
              "      // Send a message to notify the kernel that we're ready.\n",
              "      channel.send({})\n",
              "\n",
              "      for await (const message of channel.messages) {\n",
              "        // Send a message to notify the kernel that we're ready.\n",
              "        channel.send({})\n",
              "        if (message.buffers) {\n",
              "          for (const buffer of message.buffers) {\n",
              "            buffers.push(buffer);\n",
              "            downloaded += buffer.byteLength;\n",
              "            progress.value = downloaded;\n",
              "          }\n",
              "        }\n",
              "      }\n",
              "      const blob = new Blob(buffers, {type: 'application/binary'});\n",
              "      const a = document.createElement('a');\n",
              "      a.href = window.URL.createObjectURL(blob);\n",
              "      a.download = filename;\n",
              "      div.appendChild(a);\n",
              "      a.click();\n",
              "      div.remove();\n",
              "    }\n",
              "  "
            ]
          },
          "metadata": {}
        },
        {
          "output_type": "display_data",
          "data": {
            "text/plain": [
              "<IPython.core.display.Javascript object>"
            ],
            "application/javascript": [
              "download(\"download_5d51d15b-07db-4916-8de1-29456f239dd0\", \"handPose10.zip\", 337960)"
            ]
          },
          "metadata": {}
        }
      ]
    },
    {
      "cell_type": "markdown",
      "source": [
        "### Model loading"
      ],
      "metadata": {
        "id": "f_mKzWal6EKO"
      }
    },
    {
      "cell_type": "code",
      "source": [
        "# Load the gesture recognizer model\n",
        "# model = load_model('drive/MyDrive/Projects/ITR_Project/handPose2')\n",
        "model = load_model('handPose')\n",
        "\n",
        "# Load class names\n",
        "f = open('gesture2.names', 'r')\n",
        "classNames = f.read().split('\\n')\n",
        "f.close()\n",
        "print(classNames)"
      ],
      "metadata": {
        "colab": {
          "base_uri": "https://localhost:8080/"
        },
        "id": "ywzI2W7247-q",
        "outputId": "e8b88289-4cc9-4b08-e126-3d3a17f7ad73"
      },
      "execution_count": 17,
      "outputs": [
        {
          "output_type": "stream",
          "name": "stdout",
          "text": [
            "['start', 'thumbs_up', 'Arrow', 'three_finger', 'stop']\n"
          ]
        }
      ]
    },
    {
      "cell_type": "code",
      "source": [
        "model.summary()"
      ],
      "metadata": {
        "colab": {
          "base_uri": "https://localhost:8080/"
        },
        "id": "tef2O_Ap_3Jw",
        "outputId": "5e49fe3e-ae11-4012-fe7a-ec0b996c58c8"
      },
      "execution_count": 18,
      "outputs": [
        {
          "output_type": "stream",
          "name": "stdout",
          "text": [
            "Model: \"sequential\"\n",
            "_________________________________________________________________\n",
            " Layer (type)                Output Shape              Param #   \n",
            "=================================================================\n",
            " flatten (Flatten)           (None, 63)                0         \n",
            "                                                                 \n",
            " dense (Dense)               (None, 80)                5120      \n",
            "                                                                 \n",
            " dense_1 (Dense)             (None, 96)                7776      \n",
            "                                                                 \n",
            " dense_2 (Dense)             (None, 128)               12416     \n",
            "                                                                 \n",
            " dense_3 (Dense)             (None, 32)                4128      \n",
            "                                                                 \n",
            " dense_4 (Dense)             (None, 16)                528       \n",
            "                                                                 \n",
            " dense_5 (Dense)             (None, 5)                 85        \n",
            "                                                                 \n",
            "=================================================================\n",
            "Total params: 30,053\n",
            "Trainable params: 30,053\n",
            "Non-trainable params: 0\n",
            "_________________________________________________________________\n"
          ]
        }
      ]
    },
    {
      "cell_type": "code",
      "source": [
        "prediction = model.predict(X_test)"
      ],
      "metadata": {
        "colab": {
          "base_uri": "https://localhost:8080/"
        },
        "id": "aFpdn16Y7PJe",
        "outputId": "dfac5e42-ac46-4266-d3b4-531809803e92"
      },
      "execution_count": 19,
      "outputs": [
        {
          "output_type": "stream",
          "name": "stdout",
          "text": [
            "16/16 [==============================] - 0s 2ms/step\n"
          ]
        }
      ]
    },
    {
      "cell_type": "code",
      "source": [
        "y_predict = []\n",
        "for i in prediction:\n",
        "    y_predict.append(np.argmax(i))\n",
        "y_predict = np.array(y_predict)"
      ],
      "metadata": {
        "id": "qoqlHnWl9_O4"
      },
      "execution_count": 20,
      "outputs": []
    },
    {
      "cell_type": "code",
      "source": [
        "y = []\n",
        "for i in y_test:\n",
        "    y.append(np.where(i == 1)[0][0])\n",
        "y = np.array(y)"
      ],
      "metadata": {
        "id": "vjd_qu_Y7_rG"
      },
      "execution_count": 21,
      "outputs": []
    },
    {
      "cell_type": "code",
      "source": [
        "#compute the confusion matrix.\n",
        "cm = confusion_matrix(y,y_predict)"
      ],
      "metadata": {
        "id": "jyqTc8C99kx3"
      },
      "execution_count": 22,
      "outputs": []
    },
    {
      "cell_type": "code",
      "source": [
        "#Plot the confusion matrix.\n",
        "sns.heatmap(cm,\n",
        "            annot=True,\n",
        "            fmt='g',\n",
        "            xticklabels=['start','Thumbs_up','Arrow','Three_Fingers','stop','Random'],\n",
        "            yticklabels=['start','Thumbs_up','Arrow','Three_Fingers','stop','Random'])\n",
        "plt.ylabel('Prediction',fontsize=13)\n",
        "plt.xlabel('Actual',fontsize=13)\n",
        "plt.title('Confusion Matrix',fontsize=17)\n",
        "plt.show()"
      ],
      "metadata": {
        "colab": {
          "base_uri": "https://localhost:8080/",
          "height": 481
        },
        "id": "t7z7VbKw-sAW",
        "outputId": "d3397834-7604-4a63-ac9c-15d09e3b6bca"
      },
      "execution_count": 23,
      "outputs": [
        {
          "output_type": "display_data",
          "data": {
            "text/plain": [
              "<Figure size 640x480 with 2 Axes>"
            ],
            "image/png": "[encoded data removed]"
          },
          "metadata": {}
        }
      ]
    }
  ]
}